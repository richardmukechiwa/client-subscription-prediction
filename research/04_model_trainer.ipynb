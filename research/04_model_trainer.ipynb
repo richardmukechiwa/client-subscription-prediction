{
 "cells": [
  {
   "cell_type": "code",
   "execution_count": 25,
   "id": "47069cec",
   "metadata": {},
   "outputs": [],
   "source": [
    "import os"
   ]
  },
  {
   "cell_type": "code",
   "execution_count": 26,
   "id": "05aeffa1",
   "metadata": {},
   "outputs": [
    {
     "data": {
      "text/plain": [
       "'c:\\\\Users\\\\RICH-FILES\\\\Desktop\\\\ml'"
      ]
     },
     "execution_count": 26,
     "metadata": {},
     "output_type": "execute_result"
    }
   ],
   "source": [
    "%pwd"
   ]
  },
  {
   "cell_type": "code",
   "execution_count": 27,
   "id": "68bd032f",
   "metadata": {},
   "outputs": [],
   "source": [
    "os.chdir(\"../\")"
   ]
  },
  {
   "cell_type": "code",
   "execution_count": 28,
   "id": "424472e8",
   "metadata": {},
   "outputs": [
    {
     "data": {
      "text/plain": [
       "'c:\\\\Users\\\\RICH-FILES\\\\Desktop'"
      ]
     },
     "execution_count": 28,
     "metadata": {},
     "output_type": "execute_result"
    }
   ],
   "source": [
    "%pwd"
   ]
  },
  {
   "cell_type": "code",
   "execution_count": 29,
   "id": "759886a8",
   "metadata": {},
   "outputs": [],
   "source": [
    "proj_link = 'c:\\\\Users\\\\RICH-FILES\\\\Desktop\\\\ml\\\\client-subscription-prediction'\n",
    "os.chdir(proj_link)\n"
   ]
  },
  {
   "cell_type": "code",
   "execution_count": 30,
   "id": "aebf54bf",
   "metadata": {},
   "outputs": [],
   "source": [
    "# create root entity\n",
    "\n",
    "from dataclasses import dataclass\n",
    "from pathlib import Path\n",
    "\n",
    "@dataclass(frozen=True)\n",
    "class ModelTrainerConfig:\n",
    "    root_dir: Path\n",
    "    train_data_path: Path\n",
    "    test_data_path: Path\n",
    "    model_name: str\n",
    "    preprocessor_name: str\n",
    "    target_column: str\n",
    "    class_weight: str\n",
    "    max_iter: int\n",
    "    penalty: int\n",
    "    C: float\n",
    "    solver: str\n",
    "    random_state: int\n",
    "    "
   ]
  },
  {
   "cell_type": "code",
   "execution_count": 31,
   "id": "97abe00d",
   "metadata": {},
   "outputs": [],
   "source": [
    "#create configuration manager \n",
    "from clientClassifier.constants import *\n",
    "from clientClassifier.utils.common import read_yaml, create_directories"
   ]
  },
  {
   "cell_type": "code",
   "execution_count": 32,
   "id": "9e550f7e",
   "metadata": {},
   "outputs": [],
   "source": [
    "class ConfigurationManager:\n",
    "    def __init__(\n",
    "        self,\n",
    "        config_file_path = CONFIG_FILE_PATH,\n",
    "        params_file_path = PARAMS_FILE_PATH,\n",
    "        schema_filepath = SCHEMA_FILE_PATH):\n",
    "            \n",
    "        self.config = read_yaml(config_file_path)\n",
    "        self.params = read_yaml(params_file_path)\n",
    "        self.schema = read_yaml(schema_filepath)\n",
    "        \n",
    "        create_directories([self.config.artifacts_root])\n",
    "        \n",
    "        \n",
    "    def get_model_trainer_config(self) -> ModelTrainerConfig:\n",
    "        config = self.config.model_trainer\n",
    "        params = self.params.Logistic_Regression\n",
    "        schema = self.schema.TARGET_COLUMN\n",
    "        \n",
    "        \n",
    "        create_directories([config[\"root_dir\"]])\n",
    "        \n",
    "        model_trainer_config = ModelTrainerConfig(\n",
    "            root_dir=config.root_dir,\n",
    "            train_data_path=config.train_data_path,\n",
    "            test_data_path=config.test_data_path,\n",
    "            model_name=config.model_name,\n",
    "            preprocessor_name=config.preprocessor_name,\n",
    "            target_column=schema.name,\n",
    "            class_weight=params.class_weight,\n",
    "            max_iter=params[\"max_iter\"],\n",
    "            penalty=params[\"penalty\"],\n",
    "            C=params[\"C\"],\n",
    "            solver=params[\"solver\"],\n",
    "            random_state=params[\"random_state\"]\n",
    "        )\n",
    "        \n",
    "        return model_trainer_config"
   ]
  },
  {
   "cell_type": "code",
   "execution_count": null,
   "id": "a675e939",
   "metadata": {},
   "outputs": [],
   "source": [
    "#define model trainer components\n",
    "import os\n",
    "import pandas as pd\n",
    "from sklearn.linear_model import LogisticRegression\n",
    "from sklearn.metrics import classification_report, confusion_matrix, accuracy_score\n",
    "import joblib\n",
    "from clientClassifier import logger\n",
    "from sklearn.preprocessing import StandardScaler, LabelEncoder, OneHotEncoder\n",
    "from sklearn.compose import ColumnTransformer\n",
    "from sklearn.pipeline import Pipeline\n",
    "from pathlib import Path\n",
    "\n",
    "\n"
   ]
  },
  {
   "cell_type": "code",
   "execution_count": 34,
   "id": "2685a9f7",
   "metadata": {},
   "outputs": [],
   "source": [
    "class ModelTrainer:\n",
    "    def __init__(self, config: ModelTrainerConfig):\n",
    "        self.config = config\n",
    "        \n",
    "    def train(self):\n",
    "        logger.info(\"Training model\")\n",
    "        \n",
    "        # load train and test data\n",
    "        train_data = pd.read_csv(self.config.train_data_path)\n",
    "        test_data = pd.read_csv(self.config.test_data_path)\n",
    "        \n",
    "        # separate features and target variable\n",
    "        X_train = train_data.drop(columns=[self.config.target_column], axis=1)\n",
    "        y_train = train_data[self.config.target_column]\n",
    "        \n",
    "        X_test = test_data.drop(columns=[self.config.target_column], axis=1)\n",
    "        y_test = test_data[self.config.target_column]\n",
    "        \n",
    "        # create preprocessing pipeline for numerical and categorical features\n",
    "        numerical_features = X_train.select_dtypes(include=['int64', 'float64']).columns.tolist()       \n",
    "        categorical_features = X_train.select_dtypes(include=['object']).columns.tolist()   \n",
    "\n",
    "        numerical_transformer = StandardScaler()\n",
    "        categorical_transformer = OneHotEncoder(handle_unknown='ignore')                \n",
    "        \n",
    "        preprocessor = ColumnTransformer(   \n",
    "            transformers=[\n",
    "                ('num', numerical_transformer, numerical_features),\n",
    "                ('cat', categorical_transformer, categorical_features)\n",
    "            ]\n",
    "        )   \n",
    "        \n",
    "        # create a pipeline with preprocessing and model\n",
    "        pipeline = Pipeline([   \n",
    "            ('preprocessor', preprocessor),\n",
    "            ('classifier', LogisticRegression(\n",
    "                class_weight=self.config.class_weight,\n",
    "                max_iter=self.config.max_iter,\n",
    "                penalty=self.config.penalty,\n",
    "                C=self.config.C,\n",
    "                solver=self.config.solver,\n",
    "                random_state=self.config.random_state\n",
    "            ))\n",
    "        ])      \n",
    "        \n",
    "        # fit the pipeline on the training data\n",
    "        pipeline.fit(X_train, y_train)      \n",
    "        \n",
    "        # make predictions on the test data \n",
    "        y_pred = pipeline.predict(X_test)      \n",
    "         \n",
    "        # evaluate the model\n",
    "        report = classification_report(y_test, y_pred)\n",
    "        cm = confusion_matrix(y_test, y_pred)   \n",
    "        accuracy = accuracy_score(y_test, y_pred)   \n",
    "\n",
    "        logger.info(f\"Classification Report:\\n{report}\")\n",
    "        logger.info(f\"Confusion Matrix:\\n{cm}\") \n",
    "        logger.info(f\"Accuracy: {accuracy}\")   \n",
    "         \n",
    "        # save the model    \n",
    "        \n",
    "        \n",
    "        model = pipeline.named_steps['classifier']\n",
    "        preprocessor = pipeline.named_steps['preprocessor'] \n",
    "        model_path = os.path.join(self.config.root_dir, self.config.model_name)                     \n",
    "        preprocessor_path = os.path.join(self.config.root_dir, self.config.preprocessor_name)\n",
    "        joblib.dump(preprocessor, preprocessor_path)    \n",
    "        joblib.dump(model, model_path)  \n",
    "        \n",
    "        logger.info(f\"Model saved at: {model_path}\")\n",
    "        logger.info(f\"Preprocessor saved at: {preprocessor_path}\")      \n",
    "        \n",
    "        # save the model\n",
    "        joblib.dump(model, os.path.join(self.config.root_dir, self.config.model_name))"
   ]
  },
  {
   "cell_type": "code",
   "execution_count": 35,
   "id": "4977a8e8",
   "metadata": {},
   "outputs": [
    {
     "name": "stdout",
     "output_type": "stream",
     "text": [
      "[2025-04-12 12:47:29,457: INFO: common: yaml file: config\\config.yaml loaded successfully]\n",
      "[2025-04-12 12:47:29,460: INFO: common: yaml file: params.yaml loaded successfully]\n",
      "[2025-04-12 12:47:29,466: INFO: common: yaml file: schema.yaml loaded successfully]\n",
      "[2025-04-12 12:47:29,468: INFO: common: created directory at: artifacts]\n",
      "[2025-04-12 12:47:29,470: INFO: common: created directory at: artifacts/model_trainer]\n",
      "[2025-04-12 12:47:29,471: INFO: 385929610: Training model]\n",
      "[2025-04-12 12:47:29,585: INFO: 385929610: Classification Report:\n",
      "              precision    recall  f1-score   support\n",
      "\n",
      "           0       0.93      0.74      0.82       807\n",
      "           1       0.20      0.54      0.29        98\n",
      "\n",
      "    accuracy                           0.72       905\n",
      "   macro avg       0.56      0.64      0.56       905\n",
      "weighted avg       0.85      0.72      0.76       905\n",
      "]\n",
      "[2025-04-12 12:47:29,586: INFO: 385929610: Confusion Matrix:\n",
      "[[595 212]\n",
      " [ 45  53]]]\n",
      "[2025-04-12 12:47:29,587: INFO: 385929610: Accuracy: 0.7160220994475138]\n",
      "[2025-04-12 12:47:29,593: INFO: 385929610: Model saved at: artifacts/model_trainer\\model.joblib]\n",
      "[2025-04-12 12:47:29,594: INFO: 385929610: Preprocessor saved at: artifacts/model_trainer\\preprocessor.joblib]\n"
     ]
    }
   ],
   "source": [
    "try:\n",
    "    config = ConfigurationManager()\n",
    "    model_trainer_config = config.get_model_trainer_config()\n",
    "    model_trainer = ModelTrainer(model_trainer_config)\n",
    "    model_trainer.train()\n",
    "except Exception as e:\n",
    "    logger.exception(e)\n",
    "    raise e \n",
    "\n"
   ]
  },
  {
   "cell_type": "code",
   "execution_count": null,
   "id": "a0316e12",
   "metadata": {},
   "outputs": [],
   "source": []
  },
  {
   "cell_type": "code",
   "execution_count": null,
   "id": "ae94ed91",
   "metadata": {},
   "outputs": [],
   "source": []
  },
  {
   "cell_type": "code",
   "execution_count": null,
   "id": "62cc3962",
   "metadata": {},
   "outputs": [],
   "source": []
  },
  {
   "cell_type": "code",
   "execution_count": null,
   "id": "2ba8b203",
   "metadata": {},
   "outputs": [],
   "source": []
  },
  {
   "cell_type": "code",
   "execution_count": null,
   "id": "aea683bb",
   "metadata": {},
   "outputs": [],
   "source": []
  },
  {
   "cell_type": "code",
   "execution_count": null,
   "id": "eaf8132d",
   "metadata": {},
   "outputs": [],
   "source": []
  },
  {
   "cell_type": "code",
   "execution_count": null,
   "id": "cab70c13",
   "metadata": {},
   "outputs": [],
   "source": []
  },
  {
   "cell_type": "code",
   "execution_count": null,
   "id": "17b56e16",
   "metadata": {},
   "outputs": [],
   "source": []
  },
  {
   "cell_type": "code",
   "execution_count": null,
   "id": "e78db002",
   "metadata": {},
   "outputs": [],
   "source": []
  },
  {
   "cell_type": "code",
   "execution_count": null,
   "id": "a4d56276",
   "metadata": {},
   "outputs": [],
   "source": []
  },
  {
   "cell_type": "code",
   "execution_count": null,
   "id": "1979f2f7",
   "metadata": {},
   "outputs": [],
   "source": []
  },
  {
   "cell_type": "code",
   "execution_count": null,
   "id": "28e45ae6",
   "metadata": {},
   "outputs": [],
   "source": []
  },
  {
   "cell_type": "code",
   "execution_count": null,
   "id": "221c24aa",
   "metadata": {},
   "outputs": [],
   "source": []
  },
  {
   "cell_type": "code",
   "execution_count": null,
   "id": "e57b3ece",
   "metadata": {},
   "outputs": [],
   "source": []
  },
  {
   "cell_type": "code",
   "execution_count": null,
   "id": "fbab3831",
   "metadata": {},
   "outputs": [],
   "source": []
  },
  {
   "cell_type": "code",
   "execution_count": null,
   "id": "9947da11",
   "metadata": {},
   "outputs": [],
   "source": []
  }
 ],
 "metadata": {
  "kernelspec": {
   "display_name": "cl",
   "language": "python",
   "name": "python3"
  },
  "language_info": {
   "codemirror_mode": {
    "name": "ipython",
    "version": 3
   },
   "file_extension": ".py",
   "mimetype": "text/x-python",
   "name": "python",
   "nbconvert_exporter": "python",
   "pygments_lexer": "ipython3",
   "version": "3.10.16"
  }
 },
 "nbformat": 4,
 "nbformat_minor": 5
}
