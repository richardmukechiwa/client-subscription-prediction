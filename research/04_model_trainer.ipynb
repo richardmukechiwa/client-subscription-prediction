{
 "cells": [
  {
   "cell_type": "code",
   "execution_count": 249,
   "id": "47069cec",
   "metadata": {},
   "outputs": [],
   "source": [
    "import os"
   ]
  },
  {
   "cell_type": "code",
   "execution_count": 250,
   "id": "05aeffa1",
   "metadata": {},
   "outputs": [
    {
     "data": {
      "text/plain": [
       "'c:\\\\Users\\\\RICH-FILES\\\\Desktop\\\\ml\\\\client-subscription-prediction'"
      ]
     },
     "execution_count": 250,
     "metadata": {},
     "output_type": "execute_result"
    }
   ],
   "source": [
    "%pwd"
   ]
  },
  {
   "cell_type": "code",
   "execution_count": 251,
   "id": "68bd032f",
   "metadata": {},
   "outputs": [],
   "source": [
    "os.chdir(\"../\")"
   ]
  },
  {
   "cell_type": "code",
   "execution_count": 252,
   "id": "424472e8",
   "metadata": {},
   "outputs": [
    {
     "data": {
      "text/plain": [
       "'c:\\\\Users\\\\RICH-FILES\\\\Desktop\\\\ml'"
      ]
     },
     "execution_count": 252,
     "metadata": {},
     "output_type": "execute_result"
    }
   ],
   "source": [
    "%pwd"
   ]
  },
  {
   "cell_type": "code",
   "execution_count": 253,
   "id": "759886a8",
   "metadata": {},
   "outputs": [],
   "source": [
    "proj_link = 'c:\\\\Users\\\\RICH-FILES\\\\Desktop\\\\ml\\\\client-subscription-prediction'\n",
    "os.chdir(proj_link)\n"
   ]
  },
  {
   "cell_type": "code",
   "execution_count": null,
   "id": "aebf54bf",
   "metadata": {},
   "outputs": [],
   "source": [
    "# create root entity\n",
    "\n",
    "from dataclasses import dataclass\n",
    "from pathlib import Path\n",
    "\n",
    "@dataclass(frozen=True)\n",
    "class ModelTrainerConfig:\n",
    "    root_dir: Path\n",
    "    train_data_path: Path\n",
    "    test_data_path: Path\n",
    "    model_name: str\n",
    "    preprocessor_name: str\n",
    "    sm_model_name: str\n",
    "    sm_processor_name: str\n",
    "    target_column: str\n",
    "    class_weight: str\n",
    "    max_iter: int\n",
    "    penalty: int\n",
    "    C: float\n",
    "    solver: str\n",
    "    random_state: int\n",
    "    "
   ]
  },
  {
   "cell_type": "code",
   "execution_count": 255,
   "id": "42b8fe8e",
   "metadata": {},
   "outputs": [],
   "source": [
    "proj_link = 'c:\\\\Users\\\\RICH-FILES\\\\Desktop\\\\ml\\\\client-subscription-prediction'\n",
    "os.chdir(proj_link)"
   ]
  },
  {
   "cell_type": "code",
   "execution_count": 256,
   "id": "97abe00d",
   "metadata": {},
   "outputs": [],
   "source": [
    "#create configuration manager \n",
    "#from clientClassifier.constants import *\n",
    "from clientClassifier.constants import CONFIG_FILE_PATH, PARAMS_FILE_PATH, SCHEMA_FILE_PATH\n",
    "from clientClassifier.utils.common import read_yaml, create_directories"
   ]
  },
  {
   "cell_type": "code",
   "execution_count": null,
   "id": "9e550f7e",
   "metadata": {},
   "outputs": [],
   "source": [
    "class ConfigurationManager:\n",
    "    def __init__(\n",
    "        self,\n",
    "        config_file_path = CONFIG_FILE_PATH,\n",
    "        params_file_path = PARAMS_FILE_PATH,\n",
    "        schema_filepath = SCHEMA_FILE_PATH):\n",
    "            \n",
    "        self.config = read_yaml(config_file_path)\n",
    "        self.params = read_yaml(params_file_path)\n",
    "        self.schema = read_yaml(schema_filepath)\n",
    "        \n",
    "        create_directories([self.config.artifacts_root])\n",
    "        \n",
    "        \n",
    "    def get_model_trainer_config(self) -> ModelTrainerConfig:\n",
    "        config = self.config.model_trainer\n",
    "        params = self.params.Logistic_Regression\n",
    "        schema = self.schema.TARGET_COLUMN\n",
    "        \n",
    "        \n",
    "        create_directories([config[\"root_dir\"]])\n",
    "        \n",
    "        model_trainer_config = ModelTrainerConfig(\n",
    "            root_dir=config.root_dir,\n",
    "            train_data_path=config.train_data_path,\n",
    "            test_data_path=config.test_data_path,\n",
    "            model_name=config.model_name,\n",
    "            preprocessor_name=config.preprocessor_name,\n",
    "            sm_model_name=config.sm_model_name,\n",
    "            sm_processor_name=config.sm_processor_name,\n",
    "            target_column=schema.name,\n",
    "            class_weight=params.class_weight,\n",
    "            max_iter=params[\"max_iter\"],\n",
    "            penalty=params[\"penalty\"],\n",
    "            C=params[\"C\"],\n",
    "            solver=params[\"solver\"],\n",
    "            random_state=params[\"random_state\"]\n",
    "        )\n",
    "        \n",
    "        return model_trainer_config"
   ]
  },
  {
   "cell_type": "code",
   "execution_count": 258,
   "id": "a675e939",
   "metadata": {},
   "outputs": [],
   "source": [
    "#define model trainer components\n",
    "import os\n",
    "import pandas as pd\n",
    "from sklearn.linear_model import LogisticRegression\n",
    "from sklearn.metrics import classification_report, confusion_matrix, accuracy_score\n",
    "import joblib\n",
    "from clientClassifier import logger\n",
    "from sklearn.preprocessing import StandardScaler, LabelEncoder, OneHotEncoder\n",
    "from sklearn.compose import ColumnTransformer\n",
    "from sklearn.pipeline import Pipeline\n",
    "from imblearn.over_sampling import SMOTE\n",
    "\n",
    "\n",
    "\n"
   ]
  },
  {
   "cell_type": "code",
   "execution_count": null,
   "id": "2685a9f7",
   "metadata": {},
   "outputs": [],
   "source": [
    "class ModelTrainer:\n",
    "    def __init__(self, config: ModelTrainerConfig):\n",
    "        self.config = config\n",
    "        \n",
    "    def train(self):\n",
    "        logger.info(\"Training model\")\n",
    "        \n",
    "        # load train and test data\n",
    "        train_data = pd.read_csv(self.config.train_data_path)\n",
    "        test_data = pd.read_csv(self.config.test_data_path)\n",
    "        \n",
    "        # separate features and target variable\n",
    "        X_train = train_data.drop(columns=[self.config.target_column], axis=1)\n",
    "        y_train = train_data[self.config.target_column]\n",
    "        \n",
    "        X_test = test_data.drop(columns=[self.config.target_column], axis=1)\n",
    "        y_test = test_data[self.config.target_column]\n",
    "        \n",
    "        # create preprocessing pipeline for numerical and categorical features\n",
    "        numerical_features = X_train.select_dtypes(include=['int64', 'float64']).columns.tolist()       \n",
    "        categorical_features = X_train.select_dtypes(include=['object']).columns.tolist()   \n",
    "\n",
    "        numerical_transformer = StandardScaler()\n",
    "        categorical_transformer = OneHotEncoder(handle_unknown='ignore')                \n",
    "        \n",
    "        preprocessor = ColumnTransformer(   \n",
    "            transformers=[\n",
    "                ('num', numerical_transformer, numerical_features),\n",
    "                ('cat', categorical_transformer, categorical_features)\n",
    "            ]\n",
    "        )   \n",
    "        \n",
    "        # create a pipeline with preprocessing and model\n",
    "        pipeline = Pipeline([   \n",
    "            ('preprocessor', preprocessor),\n",
    "            ('classifier', LogisticRegression(\n",
    "                class_weight=self.config.class_weight,\n",
    "                max_iter=self.config.max_iter,\n",
    "                penalty=self.config.penalty,\n",
    "                C=self.config.C,\n",
    "                solver=self.config.solver,\n",
    "                random_state=self.config.random_state\n",
    "            ))\n",
    "        ])      \n",
    "        \n",
    "        # fit the pipeline on the training data\n",
    "        pipeline.fit(X_train, y_train)      \n",
    "        \n",
    "     \n",
    "        # make predictions on the test data \n",
    "        y_pred = pipeline.predict(X_test)      \n",
    "         \n",
    "        # evaluate the model\n",
    "        report = classification_report(y_test, y_pred)\n",
    "        cm = confusion_matrix(y_test, y_pred)   \n",
    "        accuracy = accuracy_score(y_test, y_pred)   \n",
    "\n",
    "        logger.info(f\"Classification Report:\\n{report}\")\n",
    "        logger.info(f\"Confusion Matrix:\\n{cm}\") \n",
    "        logger.info(f\"Accuracy: {accuracy}\")   \n",
    "         \n",
    "        # save the model    \n",
    "        \n",
    "        \n",
    "        model = pipeline.named_steps['classifier']\n",
    "        preprocessor = pipeline.named_steps['preprocessor'] \n",
    "        model_path = os.path.join(self.config.root_dir, self.config.model_name)                     \n",
    "        preprocessor_path = os.path.join(self.config.root_dir, self.config.preprocessor_name)\n",
    "        joblib.dump(preprocessor, preprocessor_path)    \n",
    "        joblib.dump(model, model_path)  \n",
    "        \n",
    "        logger.info(f\"Model saved at: {model_path}\")\n",
    "        logger.info(f\"Preprocessor saved at: {preprocessor_path}\")      \n",
    "        \n",
    "        # save the model\n",
    "        joblib.dump(model, os.path.join(self.config.root_dir, self.config.model_name))\n",
    "        \n",
    "  \n",
    "    def train_with_SMOTE(self):\n",
    "        logger.info(\"Training model with SMOTE\")\n",
    "\n",
    "        # Load data\n",
    "        train_data = pd.read_csv(self.config.train_data_path)\n",
    "        test_data = pd.read_csv(self.config.test_data_path)\n",
    "\n",
    "        # Separate features and target\n",
    "        X_train = train_data.drop(columns=[self.config.target_column])\n",
    "        y_train = train_data[self.config.target_column]\n",
    "\n",
    "        X_test = test_data.drop(columns=[self.config.target_column])\n",
    "        y_test = test_data[self.config.target_column]\n",
    "\n",
    "        # Define numerical and categorical features\n",
    "        numerical_features = X_train.select_dtypes(include=['int64', 'float64']).columns.tolist()\n",
    "        categorical_features = X_train.select_dtypes(include=['object']).columns.tolist()\n",
    "\n",
    "        # Transformers\n",
    "        numerical_transformer = StandardScaler()\n",
    "        categorical_transformer = OneHotEncoder(handle_unknown='ignore')\n",
    "\n",
    "        sm_preprocessor = ColumnTransformer(\n",
    "            transformers=[\n",
    "                ('num', numerical_transformer, numerical_features),\n",
    "                ('cat', categorical_transformer, categorical_features)\n",
    "            ]\n",
    "        )\n",
    "\n",
    "        #  Preprocess X_train using fit_transform (fit only on training data)\n",
    "        X_train_processed = sm_preprocessor.fit_transform(X_train)\n",
    "\n",
    "        # Applying SMOTE to resample training data\n",
    "        smote = SMOTE(random_state=self.config.random_state)\n",
    "        X_resampled, y_resampled = smote.fit_resample(X_train_processed, y_train)\n",
    "\n",
    "        logger.info(f\"After SMOTE: {X_resampled.shape}, Target distribution: {dict(pd.Series(y_resampled).value_counts())}\")\n",
    "\n",
    "        #  Fitting model on resampled data\n",
    "        model = LogisticRegression(\n",
    "            class_weight=self.config.class_weight,\n",
    "            max_iter=self.config.max_iter,\n",
    "            penalty=self.config.penalty,\n",
    "            C=self.config.C,\n",
    "            solver=self.config.solver,\n",
    "            random_state=self.config.random_state\n",
    "        )\n",
    "\n",
    "        model.fit(X_resampled, y_resampled)\n",
    "            \n",
    "        # make predictions on the test data \n",
    "        X_test_processed = sm_preprocessor.transform(X_test)\n",
    "        y_pred_resampled = model.predict(X_test_processed)\n",
    "\n",
    "        # evaluate the model\n",
    "        resampled_report = classification_report(y_test, y_pred_resampled)\n",
    "        resampled_cm = confusion_matrix(y_test, y_pred_resampled)   \n",
    "        resampled_accuracy = accuracy_score(y_test, y_pred_resampled)   \n",
    "\n",
    "        logger.info(f\"Classification Report:\\n{resampled_report}\")\n",
    "        logger.info(f\"Confusion Matrix:\\n{resampled_cm}\") \n",
    "        logger.info(f\"Accuracy: {resampled_accuracy}\")   \n",
    "            \n",
    "        \n",
    "        \n",
    "        # save the model    \n",
    "            \n",
    "\n",
    "        #model_path_resampled = os.path.join(self.config.root_dir, self.config.model_name)                     \n",
    "        #preprocessor_path_resampled = os.path.join(self.config.root_dir, self.config.preprocessor_name)\n",
    "        \n",
    "        #save the model and preprocessor using this example        # save the model\n",
    "        joblib.dump(model, os.path.join(self.config.root_dir, self.config.sm_model_name))\n",
    "        joblib.dump(sm_preprocessor, os.path.join(self.config.root_dir, self.config.sm_processor_name))\n",
    "            "
   ]
  },
  {
   "cell_type": "code",
   "execution_count": 260,
   "id": "4977a8e8",
   "metadata": {},
   "outputs": [
    {
     "name": "stdout",
     "output_type": "stream",
     "text": [
      "[2025-04-12 14:21:18,901: INFO: common: yaml file: config\\config.yaml loaded successfully]\n",
      "[2025-04-12 14:21:18,907: INFO: common: yaml file: params.yaml loaded successfully]\n",
      "[2025-04-12 14:21:18,913: INFO: common: yaml file: schema.yaml loaded successfully]\n",
      "[2025-04-12 14:21:18,915: INFO: common: created directory at: artifacts]\n",
      "[2025-04-12 14:21:18,917: INFO: common: created directory at: artifacts/model_trainer]\n",
      "[2025-04-12 14:21:18,918: INFO: 2133987789: Training model]\n",
      "[2025-04-12 14:21:19,050: INFO: 2133987789: Classification Report:\n",
      "              precision    recall  f1-score   support\n",
      "\n",
      "           0       0.93      0.74      0.82       807\n",
      "           1       0.20      0.54      0.29        98\n",
      "\n",
      "    accuracy                           0.72       905\n",
      "   macro avg       0.56      0.64      0.56       905\n",
      "weighted avg       0.85      0.72      0.76       905\n",
      "]\n",
      "[2025-04-12 14:21:19,051: INFO: 2133987789: Confusion Matrix:\n",
      "[[595 212]\n",
      " [ 45  53]]]\n",
      "[2025-04-12 14:21:19,053: INFO: 2133987789: Accuracy: 0.7160220994475138]\n",
      "[2025-04-12 14:21:19,131: INFO: 2133987789: Model saved at: artifacts/model_trainer\\model.joblib]\n",
      "[2025-04-12 14:21:19,132: INFO: 2133987789: Preprocessor saved at: artifacts/model_trainer\\preprocessor.joblib]\n",
      "[2025-04-12 14:21:19,135: INFO: 2133987789: Training model with SMOTE]\n",
      "[2025-04-12 14:21:19,229: INFO: 2133987789: After SMOTE: (6386, 49), Target distribution: {0: 3193, 1: 3193}]\n",
      "[2025-04-12 14:21:19,333: INFO: 2133987789: Classification Report:\n",
      "              precision    recall  f1-score   support\n",
      "\n",
      "           0       0.93      0.75      0.83       807\n",
      "           1       0.20      0.53      0.29        98\n",
      "\n",
      "    accuracy                           0.72       905\n",
      "   macro avg       0.57      0.64      0.56       905\n",
      "weighted avg       0.85      0.72      0.77       905\n",
      "]\n",
      "[2025-04-12 14:21:19,334: INFO: 2133987789: Confusion Matrix:\n",
      "[[602 205]\n",
      " [ 46  52]]]\n",
      "[2025-04-12 14:21:19,335: INFO: 2133987789: Accuracy: 0.7226519337016575]\n",
      "[2025-04-12 14:21:19,335: ERROR: 3411631855: 'ModelTrainerConfig' object has no attribute 'model_path_resampled']\n",
      "Traceback (most recent call last):\n",
      "  File \"C:\\Users\\RICH-FILES\\AppData\\Local\\Temp\\ipykernel_3432\\3411631855.py\", line 6, in <module>\n",
      "    model_trainer.train_with_SMOTE()\n",
      "  File \"C:\\Users\\RICH-FILES\\AppData\\Local\\Temp\\ipykernel_3432\\2133987789.py\", line 151, in train_with_SMOTE\n",
      "    joblib.dump(model, os.path.join(self.config.root_dir, self.config.model_path_resampled))\n",
      "AttributeError: 'ModelTrainerConfig' object has no attribute 'model_path_resampled'\n"
     ]
    },
    {
     "ename": "AttributeError",
     "evalue": "'ModelTrainerConfig' object has no attribute 'model_path_resampled'",
     "output_type": "error",
     "traceback": [
      "\u001b[1;31m---------------------------------------------------------------------------\u001b[0m",
      "\u001b[1;31mAttributeError\u001b[0m                            Traceback (most recent call last)",
      "Cell \u001b[1;32mIn[260], line 9\u001b[0m\n\u001b[0;32m      7\u001b[0m \u001b[38;5;28;01mexcept\u001b[39;00m \u001b[38;5;167;01mException\u001b[39;00m \u001b[38;5;28;01mas\u001b[39;00m e:\n\u001b[0;32m      8\u001b[0m     logger\u001b[38;5;241m.\u001b[39mexception(e)\n\u001b[1;32m----> 9\u001b[0m     \u001b[38;5;28;01mraise\u001b[39;00m e \n",
      "Cell \u001b[1;32mIn[260], line 6\u001b[0m\n\u001b[0;32m      4\u001b[0m     model_trainer \u001b[38;5;241m=\u001b[39m ModelTrainer(model_trainer_config)\n\u001b[0;32m      5\u001b[0m     model_trainer\u001b[38;5;241m.\u001b[39mtrain()\n\u001b[1;32m----> 6\u001b[0m     \u001b[43mmodel_trainer\u001b[49m\u001b[38;5;241;43m.\u001b[39;49m\u001b[43mtrain_with_SMOTE\u001b[49m\u001b[43m(\u001b[49m\u001b[43m)\u001b[49m\n\u001b[0;32m      7\u001b[0m \u001b[38;5;28;01mexcept\u001b[39;00m \u001b[38;5;167;01mException\u001b[39;00m \u001b[38;5;28;01mas\u001b[39;00m e:\n\u001b[0;32m      8\u001b[0m     logger\u001b[38;5;241m.\u001b[39mexception(e)\n",
      "Cell \u001b[1;32mIn[259], line 151\u001b[0m, in \u001b[0;36mModelTrainer.train_with_SMOTE\u001b[1;34m(self)\u001b[0m\n\u001b[0;32m    148\u001b[0m preprocessor_path_resampled \u001b[38;5;241m=\u001b[39m os\u001b[38;5;241m.\u001b[39mpath\u001b[38;5;241m.\u001b[39mjoin(\u001b[38;5;28mself\u001b[39m\u001b[38;5;241m.\u001b[39mconfig\u001b[38;5;241m.\u001b[39mroot_dir, \u001b[38;5;28mself\u001b[39m\u001b[38;5;241m.\u001b[39mconfig\u001b[38;5;241m.\u001b[39mpreprocessor_name)\n\u001b[0;32m    150\u001b[0m \u001b[38;5;66;03m#save the model and preprocessor using this example        # save the model\u001b[39;00m\n\u001b[1;32m--> 151\u001b[0m joblib\u001b[38;5;241m.\u001b[39mdump(model, os\u001b[38;5;241m.\u001b[39mpath\u001b[38;5;241m.\u001b[39mjoin(\u001b[38;5;28mself\u001b[39m\u001b[38;5;241m.\u001b[39mconfig\u001b[38;5;241m.\u001b[39mroot_dir, \u001b[38;5;28;43mself\u001b[39;49m\u001b[38;5;241;43m.\u001b[39;49m\u001b[43mconfig\u001b[49m\u001b[38;5;241;43m.\u001b[39;49m\u001b[43mmodel_path_resampled\u001b[49m))\n\u001b[0;32m    152\u001b[0m joblib\u001b[38;5;241m.\u001b[39mdump(sm_preprocessor, os\u001b[38;5;241m.\u001b[39mpath\u001b[38;5;241m.\u001b[39mjoin(\u001b[38;5;28mself\u001b[39m\u001b[38;5;241m.\u001b[39mconfig\u001b[38;5;241m.\u001b[39mroot_dir, \u001b[38;5;28mself\u001b[39m\u001b[38;5;241m.\u001b[39mconfig\u001b[38;5;241m.\u001b[39mpreprocessor_path_resampled))\n",
      "\u001b[1;31mAttributeError\u001b[0m: 'ModelTrainerConfig' object has no attribute 'model_path_resampled'"
     ]
    }
   ],
   "source": [
    "try:\n",
    "    config = ConfigurationManager()\n",
    "    model_trainer_config = config.get_model_trainer_config()\n",
    "    model_trainer = ModelTrainer(model_trainer_config)\n",
    "    model_trainer.train()\n",
    "    model_trainer.train_with_SMOTE()\n",
    "except Exception as e:\n",
    "    logger.exception(e)\n",
    "    raise e \n",
    "\n"
   ]
  },
  {
   "cell_type": "code",
   "execution_count": null,
   "id": "a0316e12",
   "metadata": {},
   "outputs": [],
   "source": []
  },
  {
   "cell_type": "code",
   "execution_count": null,
   "id": "ae94ed91",
   "metadata": {},
   "outputs": [],
   "source": []
  },
  {
   "cell_type": "code",
   "execution_count": null,
   "id": "62cc3962",
   "metadata": {},
   "outputs": [],
   "source": []
  },
  {
   "cell_type": "code",
   "execution_count": null,
   "id": "2ba8b203",
   "metadata": {},
   "outputs": [],
   "source": []
  },
  {
   "cell_type": "code",
   "execution_count": null,
   "id": "aea683bb",
   "metadata": {},
   "outputs": [],
   "source": []
  },
  {
   "cell_type": "code",
   "execution_count": null,
   "id": "eaf8132d",
   "metadata": {},
   "outputs": [],
   "source": []
  },
  {
   "cell_type": "code",
   "execution_count": null,
   "id": "cab70c13",
   "metadata": {},
   "outputs": [],
   "source": []
  },
  {
   "cell_type": "code",
   "execution_count": null,
   "id": "17b56e16",
   "metadata": {},
   "outputs": [],
   "source": []
  },
  {
   "cell_type": "code",
   "execution_count": null,
   "id": "e78db002",
   "metadata": {},
   "outputs": [],
   "source": []
  },
  {
   "cell_type": "code",
   "execution_count": null,
   "id": "a4d56276",
   "metadata": {},
   "outputs": [],
   "source": []
  },
  {
   "cell_type": "code",
   "execution_count": null,
   "id": "1979f2f7",
   "metadata": {},
   "outputs": [],
   "source": []
  },
  {
   "cell_type": "code",
   "execution_count": null,
   "id": "28e45ae6",
   "metadata": {},
   "outputs": [],
   "source": []
  },
  {
   "cell_type": "code",
   "execution_count": null,
   "id": "221c24aa",
   "metadata": {},
   "outputs": [],
   "source": []
  },
  {
   "cell_type": "code",
   "execution_count": null,
   "id": "e57b3ece",
   "metadata": {},
   "outputs": [],
   "source": []
  },
  {
   "cell_type": "code",
   "execution_count": null,
   "id": "fbab3831",
   "metadata": {},
   "outputs": [],
   "source": []
  },
  {
   "cell_type": "code",
   "execution_count": null,
   "id": "9947da11",
   "metadata": {},
   "outputs": [],
   "source": []
  }
 ],
 "metadata": {
  "kernelspec": {
   "display_name": "cl",
   "language": "python",
   "name": "python3"
  },
  "language_info": {
   "codemirror_mode": {
    "name": "ipython",
    "version": 3
   },
   "file_extension": ".py",
   "mimetype": "text/x-python",
   "name": "python",
   "nbconvert_exporter": "python",
   "pygments_lexer": "ipython3",
   "version": "3.10.16"
  }
 },
 "nbformat": 4,
 "nbformat_minor": 5
}
